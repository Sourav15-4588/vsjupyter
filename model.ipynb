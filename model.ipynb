{
 "cells": [
  {
   "cell_type": "markdown",
   "id": "13047cb4",
   "metadata": {},
   "source": [
    "Load the vector Dataset"
   ]
  },
  {
   "cell_type": "code",
   "execution_count": 1,
   "id": "75506fe0",
   "metadata": {},
   "outputs": [
    {
     "name": "stdout",
     "output_type": "stream",
     "text": [
      "Requirement already satisfied: chromadb in c:\\users\\sourav\\anaconda3\\envs\\rtx_env\\lib\\site-packages (1.0.20)\n",
      "Requirement already satisfied: build>=1.0.3 in c:\\users\\sourav\\anaconda3\\envs\\rtx_env\\lib\\site-packages (from chromadb) (1.3.0)\n",
      "Requirement already satisfied: pydantic>=1.9 in c:\\users\\sourav\\anaconda3\\envs\\rtx_env\\lib\\site-packages (from chromadb) (2.11.7)\n",
      "Requirement already satisfied: pybase64>=1.4.1 in c:\\users\\sourav\\anaconda3\\envs\\rtx_env\\lib\\site-packages (from chromadb) (1.4.2)\n",
      "Requirement already satisfied: uvicorn>=0.18.3 in c:\\users\\sourav\\anaconda3\\envs\\rtx_env\\lib\\site-packages (from uvicorn[standard]>=0.18.3->chromadb) (0.35.0)\n",
      "Requirement already satisfied: numpy>=1.22.5 in c:\\users\\sourav\\anaconda3\\envs\\rtx_env\\lib\\site-packages (from chromadb) (2.0.1)\n",
      "Requirement already satisfied: posthog<6.0.0,>=2.4.0 in c:\\users\\sourav\\anaconda3\\envs\\rtx_env\\lib\\site-packages (from chromadb) (5.4.0)\n",
      "Requirement already satisfied: typing-extensions>=4.5.0 in c:\\users\\sourav\\anaconda3\\envs\\rtx_env\\lib\\site-packages (from chromadb) (4.12.2)\n",
      "Requirement already satisfied: onnxruntime>=1.14.1 in c:\\users\\sourav\\anaconda3\\envs\\rtx_env\\lib\\site-packages (from chromadb) (1.19.2)\n",
      "Requirement already satisfied: opentelemetry-api>=1.2.0 in c:\\users\\sourav\\anaconda3\\envs\\rtx_env\\lib\\site-packages (from chromadb) (1.36.0)\n",
      "Requirement already satisfied: opentelemetry-exporter-otlp-proto-grpc>=1.2.0 in c:\\users\\sourav\\anaconda3\\envs\\rtx_env\\lib\\site-packages (from chromadb) (1.36.0)\n",
      "Requirement already satisfied: opentelemetry-sdk>=1.2.0 in c:\\users\\sourav\\anaconda3\\envs\\rtx_env\\lib\\site-packages (from chromadb) (1.36.0)\n",
      "Requirement already satisfied: tokenizers>=0.13.2 in c:\\users\\sourav\\anaconda3\\envs\\rtx_env\\lib\\site-packages (from chromadb) (0.21.4)\n",
      "Requirement already satisfied: pypika>=0.48.9 in c:\\users\\sourav\\anaconda3\\envs\\rtx_env\\lib\\site-packages (from chromadb) (0.48.9)\n",
      "Requirement already satisfied: tqdm>=4.65.0 in c:\\users\\sourav\\anaconda3\\envs\\rtx_env\\lib\\site-packages (from chromadb) (4.67.1)\n",
      "Requirement already satisfied: overrides>=7.3.1 in c:\\users\\sourav\\anaconda3\\envs\\rtx_env\\lib\\site-packages (from chromadb) (7.7.0)\n",
      "Requirement already satisfied: importlib-resources in c:\\users\\sourav\\anaconda3\\envs\\rtx_env\\lib\\site-packages (from chromadb) (6.5.2)\n",
      "Requirement already satisfied: grpcio>=1.58.0 in c:\\users\\sourav\\anaconda3\\envs\\rtx_env\\lib\\site-packages (from chromadb) (1.74.0)\n",
      "Requirement already satisfied: bcrypt>=4.0.1 in c:\\users\\sourav\\anaconda3\\envs\\rtx_env\\lib\\site-packages (from chromadb) (4.3.0)\n",
      "Requirement already satisfied: typer>=0.9.0 in c:\\users\\sourav\\anaconda3\\envs\\rtx_env\\lib\\site-packages (from chromadb) (0.16.1)\n",
      "Requirement already satisfied: kubernetes>=28.1.0 in c:\\users\\sourav\\anaconda3\\envs\\rtx_env\\lib\\site-packages (from chromadb) (33.1.0)\n",
      "Requirement already satisfied: tenacity>=8.2.3 in c:\\users\\sourav\\anaconda3\\envs\\rtx_env\\lib\\site-packages (from chromadb) (9.1.2)\n",
      "Requirement already satisfied: pyyaml>=6.0.0 in c:\\users\\sourav\\anaconda3\\envs\\rtx_env\\lib\\site-packages (from chromadb) (6.0.2)\n",
      "Requirement already satisfied: mmh3>=4.0.1 in c:\\users\\sourav\\anaconda3\\envs\\rtx_env\\lib\\site-packages (from chromadb) (5.2.0)\n",
      "Requirement already satisfied: orjson>=3.9.12 in c:\\users\\sourav\\anaconda3\\envs\\rtx_env\\lib\\site-packages (from chromadb) (3.11.2)\n",
      "Requirement already satisfied: httpx>=0.27.0 in c:\\users\\sourav\\anaconda3\\envs\\rtx_env\\lib\\site-packages (from chromadb) (0.28.1)\n",
      "Requirement already satisfied: rich>=10.11.0 in c:\\users\\sourav\\anaconda3\\envs\\rtx_env\\lib\\site-packages (from chromadb) (14.1.0)\n",
      "Requirement already satisfied: jsonschema>=4.19.0 in c:\\users\\sourav\\anaconda3\\envs\\rtx_env\\lib\\site-packages (from chromadb) (4.25.1)\n",
      "Requirement already satisfied: requests<3.0,>=2.7 in c:\\users\\sourav\\anaconda3\\envs\\rtx_env\\lib\\site-packages (from posthog<6.0.0,>=2.4.0->chromadb) (2.32.4)\n",
      "Requirement already satisfied: six>=1.5 in c:\\users\\sourav\\anaconda3\\envs\\rtx_env\\lib\\site-packages (from posthog<6.0.0,>=2.4.0->chromadb) (1.17.0)\n",
      "Requirement already satisfied: python-dateutil>=2.2 in c:\\users\\sourav\\anaconda3\\envs\\rtx_env\\lib\\site-packages (from posthog<6.0.0,>=2.4.0->chromadb) (2.9.0.post0)\n",
      "Requirement already satisfied: backoff>=1.10.0 in c:\\users\\sourav\\anaconda3\\envs\\rtx_env\\lib\\site-packages (from posthog<6.0.0,>=2.4.0->chromadb) (2.2.1)\n",
      "Requirement already satisfied: distro>=1.5.0 in c:\\users\\sourav\\anaconda3\\envs\\rtx_env\\lib\\site-packages (from posthog<6.0.0,>=2.4.0->chromadb) (1.9.0)\n",
      "Requirement already satisfied: charset_normalizer<4,>=2 in c:\\users\\sourav\\anaconda3\\envs\\rtx_env\\lib\\site-packages (from requests<3.0,>=2.7->posthog<6.0.0,>=2.4.0->chromadb) (3.3.2)\n",
      "Requirement already satisfied: idna<4,>=2.5 in c:\\users\\sourav\\anaconda3\\envs\\rtx_env\\lib\\site-packages (from requests<3.0,>=2.7->posthog<6.0.0,>=2.4.0->chromadb) (3.7)\n",
      "Requirement already satisfied: urllib3<3,>=1.21.1 in c:\\users\\sourav\\anaconda3\\envs\\rtx_env\\lib\\site-packages (from requests<3.0,>=2.7->posthog<6.0.0,>=2.4.0->chromadb) (2.5.0)\n",
      "Requirement already satisfied: certifi>=2017.4.17 in c:\\users\\sourav\\anaconda3\\envs\\rtx_env\\lib\\site-packages (from requests<3.0,>=2.7->posthog<6.0.0,>=2.4.0->chromadb) (2025.8.3)\n",
      "Requirement already satisfied: packaging>=19.1 in c:\\users\\sourav\\anaconda3\\envs\\rtx_env\\lib\\site-packages (from build>=1.0.3->chromadb) (25.0)\n",
      "Requirement already satisfied: pyproject_hooks in c:\\users\\sourav\\anaconda3\\envs\\rtx_env\\lib\\site-packages (from build>=1.0.3->chromadb) (1.2.0)\n",
      "Requirement already satisfied: colorama in c:\\users\\sourav\\anaconda3\\envs\\rtx_env\\lib\\site-packages (from build>=1.0.3->chromadb) (0.4.6)\n",
      "Requirement already satisfied: importlib-metadata>=4.6 in c:\\users\\sourav\\anaconda3\\envs\\rtx_env\\lib\\site-packages (from build>=1.0.3->chromadb) (8.7.0)\n",
      "Requirement already satisfied: tomli>=1.1.0 in c:\\users\\sourav\\anaconda3\\envs\\rtx_env\\lib\\site-packages (from build>=1.0.3->chromadb) (2.2.1)\n",
      "Requirement already satisfied: anyio in c:\\users\\sourav\\anaconda3\\envs\\rtx_env\\lib\\site-packages (from httpx>=0.27.0->chromadb) (4.10.0)\n",
      "Requirement already satisfied: httpcore==1.* in c:\\users\\sourav\\anaconda3\\envs\\rtx_env\\lib\\site-packages (from httpx>=0.27.0->chromadb) (1.0.9)\n",
      "Requirement already satisfied: h11>=0.16 in c:\\users\\sourav\\anaconda3\\envs\\rtx_env\\lib\\site-packages (from httpcore==1.*->httpx>=0.27.0->chromadb) (0.16.0)\n",
      "Requirement already satisfied: zipp>=3.20 in c:\\users\\sourav\\anaconda3\\envs\\rtx_env\\lib\\site-packages (from importlib-metadata>=4.6->build>=1.0.3->chromadb) (3.23.0)\n",
      "Requirement already satisfied: attrs>=22.2.0 in c:\\users\\sourav\\anaconda3\\envs\\rtx_env\\lib\\site-packages (from jsonschema>=4.19.0->chromadb) (25.3.0)\n",
      "Requirement already satisfied: jsonschema-specifications>=2023.03.6 in c:\\users\\sourav\\anaconda3\\envs\\rtx_env\\lib\\site-packages (from jsonschema>=4.19.0->chromadb) (2025.4.1)\n",
      "Requirement already satisfied: referencing>=0.28.4 in c:\\users\\sourav\\anaconda3\\envs\\rtx_env\\lib\\site-packages (from jsonschema>=4.19.0->chromadb) (0.36.2)\n",
      "Requirement already satisfied: rpds-py>=0.7.1 in c:\\users\\sourav\\anaconda3\\envs\\rtx_env\\lib\\site-packages (from jsonschema>=4.19.0->chromadb) (0.27.0)\n",
      "Requirement already satisfied: google-auth>=1.0.1 in c:\\users\\sourav\\anaconda3\\envs\\rtx_env\\lib\\site-packages (from kubernetes>=28.1.0->chromadb) (2.40.3)\n",
      "Requirement already satisfied: websocket-client!=0.40.0,!=0.41.*,!=0.42.*,>=0.32.0 in c:\\users\\sourav\\anaconda3\\envs\\rtx_env\\lib\\site-packages (from kubernetes>=28.1.0->chromadb) (1.8.0)\n",
      "Requirement already satisfied: requests-oauthlib in c:\\users\\sourav\\anaconda3\\envs\\rtx_env\\lib\\site-packages (from kubernetes>=28.1.0->chromadb) (2.0.0)\n",
      "Requirement already satisfied: oauthlib>=3.2.2 in c:\\users\\sourav\\anaconda3\\envs\\rtx_env\\lib\\site-packages (from kubernetes>=28.1.0->chromadb) (3.3.1)\n",
      "Requirement already satisfied: durationpy>=0.7 in c:\\users\\sourav\\anaconda3\\envs\\rtx_env\\lib\\site-packages (from kubernetes>=28.1.0->chromadb) (0.10)\n",
      "Requirement already satisfied: cachetools<6.0,>=2.0.0 in c:\\users\\sourav\\anaconda3\\envs\\rtx_env\\lib\\site-packages (from google-auth>=1.0.1->kubernetes>=28.1.0->chromadb) (5.5.2)\n",
      "Requirement already satisfied: pyasn1-modules>=0.2.1 in c:\\users\\sourav\\anaconda3\\envs\\rtx_env\\lib\\site-packages (from google-auth>=1.0.1->kubernetes>=28.1.0->chromadb) (0.4.2)\n",
      "Requirement already satisfied: rsa<5,>=3.1.4 in c:\\users\\sourav\\anaconda3\\envs\\rtx_env\\lib\\site-packages (from google-auth>=1.0.1->kubernetes>=28.1.0->chromadb) (4.9.1)\n",
      "Requirement already satisfied: pyasn1>=0.1.3 in c:\\users\\sourav\\anaconda3\\envs\\rtx_env\\lib\\site-packages (from rsa<5,>=3.1.4->google-auth>=1.0.1->kubernetes>=28.1.0->chromadb) (0.6.1)\n",
      "Requirement already satisfied: coloredlogs in c:\\users\\sourav\\anaconda3\\envs\\rtx_env\\lib\\site-packages (from onnxruntime>=1.14.1->chromadb) (15.0.1)\n",
      "Requirement already satisfied: flatbuffers in c:\\users\\sourav\\anaconda3\\envs\\rtx_env\\lib\\site-packages (from onnxruntime>=1.14.1->chromadb) (25.2.10)\n",
      "Requirement already satisfied: protobuf in c:\\users\\sourav\\anaconda3\\envs\\rtx_env\\lib\\site-packages (from onnxruntime>=1.14.1->chromadb) (6.32.0)\n",
      "Requirement already satisfied: sympy in c:\\users\\sourav\\anaconda3\\envs\\rtx_env\\lib\\site-packages (from onnxruntime>=1.14.1->chromadb) (1.13.1)\n",
      "Requirement already satisfied: googleapis-common-protos~=1.57 in c:\\users\\sourav\\anaconda3\\envs\\rtx_env\\lib\\site-packages (from opentelemetry-exporter-otlp-proto-grpc>=1.2.0->chromadb) (1.70.0)\n",
      "Requirement already satisfied: opentelemetry-exporter-otlp-proto-common==1.36.0 in c:\\users\\sourav\\anaconda3\\envs\\rtx_env\\lib\\site-packages (from opentelemetry-exporter-otlp-proto-grpc>=1.2.0->chromadb) (1.36.0)\n",
      "Requirement already satisfied: opentelemetry-proto==1.36.0 in c:\\users\\sourav\\anaconda3\\envs\\rtx_env\\lib\\site-packages (from opentelemetry-exporter-otlp-proto-grpc>=1.2.0->chromadb) (1.36.0)\n",
      "Requirement already satisfied: opentelemetry-semantic-conventions==0.57b0 in c:\\users\\sourav\\anaconda3\\envs\\rtx_env\\lib\\site-packages (from opentelemetry-sdk>=1.2.0->chromadb) (0.57b0)\n",
      "Requirement already satisfied: annotated-types>=0.6.0 in c:\\users\\sourav\\anaconda3\\envs\\rtx_env\\lib\\site-packages (from pydantic>=1.9->chromadb) (0.7.0)\n",
      "Requirement already satisfied: pydantic-core==2.33.2 in c:\\users\\sourav\\anaconda3\\envs\\rtx_env\\lib\\site-packages (from pydantic>=1.9->chromadb) (2.33.2)\n",
      "Requirement already satisfied: typing-inspection>=0.4.0 in c:\\users\\sourav\\anaconda3\\envs\\rtx_env\\lib\\site-packages (from pydantic>=1.9->chromadb) (0.4.1)\n",
      "Requirement already satisfied: markdown-it-py>=2.2.0 in c:\\users\\sourav\\anaconda3\\envs\\rtx_env\\lib\\site-packages (from rich>=10.11.0->chromadb) (3.0.0)\n",
      "Requirement already satisfied: pygments<3.0.0,>=2.13.0 in c:\\users\\sourav\\anaconda3\\envs\\rtx_env\\lib\\site-packages (from rich>=10.11.0->chromadb) (2.19.2)\n",
      "Requirement already satisfied: mdurl~=0.1 in c:\\users\\sourav\\anaconda3\\envs\\rtx_env\\lib\\site-packages (from markdown-it-py>=2.2.0->rich>=10.11.0->chromadb) (0.1.2)\n",
      "Requirement already satisfied: huggingface-hub<1.0,>=0.16.4 in c:\\users\\sourav\\anaconda3\\envs\\rtx_env\\lib\\site-packages (from tokenizers>=0.13.2->chromadb) (0.34.4)\n",
      "Requirement already satisfied: filelock in c:\\users\\sourav\\anaconda3\\envs\\rtx_env\\lib\\site-packages (from huggingface-hub<1.0,>=0.16.4->tokenizers>=0.13.2->chromadb) (3.17.0)\n",
      "Requirement already satisfied: fsspec>=2023.5.0 in c:\\users\\sourav\\anaconda3\\envs\\rtx_env\\lib\\site-packages (from huggingface-hub<1.0,>=0.16.4->tokenizers>=0.13.2->chromadb) (2025.7.0)\n",
      "Requirement already satisfied: click>=8.0.0 in c:\\users\\sourav\\anaconda3\\envs\\rtx_env\\lib\\site-packages (from typer>=0.9.0->chromadb) (8.1.8)\n",
      "Requirement already satisfied: shellingham>=1.3.0 in c:\\users\\sourav\\anaconda3\\envs\\rtx_env\\lib\\site-packages (from typer>=0.9.0->chromadb) (1.5.4)\n",
      "Requirement already satisfied: httptools>=0.6.3 in c:\\users\\sourav\\anaconda3\\envs\\rtx_env\\lib\\site-packages (from uvicorn[standard]>=0.18.3->chromadb) (0.6.4)\n",
      "Requirement already satisfied: python-dotenv>=0.13 in c:\\users\\sourav\\anaconda3\\envs\\rtx_env\\lib\\site-packages (from uvicorn[standard]>=0.18.3->chromadb) (1.1.1)\n",
      "Requirement already satisfied: watchfiles>=0.13 in c:\\users\\sourav\\anaconda3\\envs\\rtx_env\\lib\\site-packages (from uvicorn[standard]>=0.18.3->chromadb) (1.1.0)\n",
      "Requirement already satisfied: websockets>=10.4 in c:\\users\\sourav\\anaconda3\\envs\\rtx_env\\lib\\site-packages (from uvicorn[standard]>=0.18.3->chromadb) (15.0.1)\n",
      "Requirement already satisfied: exceptiongroup>=1.0.2 in c:\\users\\sourav\\anaconda3\\envs\\rtx_env\\lib\\site-packages (from anyio->httpx>=0.27.0->chromadb) (1.3.0)\n",
      "Requirement already satisfied: sniffio>=1.1 in c:\\users\\sourav\\anaconda3\\envs\\rtx_env\\lib\\site-packages (from anyio->httpx>=0.27.0->chromadb) (1.3.1)\n",
      "Requirement already satisfied: humanfriendly>=9.1 in c:\\users\\sourav\\anaconda3\\envs\\rtx_env\\lib\\site-packages (from coloredlogs->onnxruntime>=1.14.1->chromadb) (10.0)\n",
      "Requirement already satisfied: pyreadline3 in c:\\users\\sourav\\anaconda3\\envs\\rtx_env\\lib\\site-packages (from humanfriendly>=9.1->coloredlogs->onnxruntime>=1.14.1->chromadb) (3.5.4)\n",
      "Requirement already satisfied: mpmath<1.4,>=1.1.0 in c:\\users\\sourav\\anaconda3\\envs\\rtx_env\\lib\\site-packages (from sympy->onnxruntime>=1.14.1->chromadb) (1.3.0)\n"
     ]
    }
   ],
   "source": [
    "# @title STEP 1: Install & Import (Run First)\n",
    "!pip install chromadb\n",
    "import chromadb"
   ]
  },
  {
   "cell_type": "code",
   "execution_count": 2,
   "id": "8bebe950",
   "metadata": {},
   "outputs": [
    {
     "name": "stdout",
     "output_type": "stream",
     "text": [
      "✅ Database loaded! 19 chunks ready\n",
      "🚀 Skip to chatbot phase directly!\n"
     ]
    }
   ],
   "source": [
    "# @title STEP 2: Load Saved Vector Database\n",
    "# This SKIPS all processing - loads your ready-to-use database\n",
    "persistent_path = \"./financial_policy_chromadb\"\n",
    "client = chromadb.PersistentClient(path=persistent_path)\n",
    "collection = client.get_collection(\"financial_policy\")\n",
    "\n",
    "print(f\"✅ Database loaded! {collection.count()} chunks ready\")\n",
    "print(\"🚀 Skip to chatbot phase directly!\")"
   ]
  },
  {
   "cell_type": "code",
   "execution_count": 3,
   "id": "3dbc7d0c",
   "metadata": {},
   "outputs": [
    {
     "name": "stdout",
     "output_type": "stream",
     "text": [
      "Requirement already satisfied: transformers in c:\\users\\sourav\\anaconda3\\envs\\rtx_env\\lib\\site-packages (4.55.3)\n",
      "Requirement already satisfied: torch in c:\\users\\sourav\\anaconda3\\envs\\rtx_env\\lib\\site-packages (2.5.1)\n",
      "Requirement already satisfied: accelerate in c:\\users\\sourav\\anaconda3\\envs\\rtx_env\\lib\\site-packages (1.10.0)\n",
      "Requirement already satisfied: bitsandbytes in c:\\users\\sourav\\anaconda3\\envs\\rtx_env\\lib\\site-packages (0.47.0)\n",
      "Requirement already satisfied: filelock in c:\\users\\sourav\\anaconda3\\envs\\rtx_env\\lib\\site-packages (from transformers) (3.17.0)\n",
      "Requirement already satisfied: huggingface-hub<1.0,>=0.34.0 in c:\\users\\sourav\\anaconda3\\envs\\rtx_env\\lib\\site-packages (from transformers) (0.34.4)\n",
      "Requirement already satisfied: numpy>=1.17 in c:\\users\\sourav\\anaconda3\\envs\\rtx_env\\lib\\site-packages (from transformers) (2.0.1)\n",
      "Requirement already satisfied: packaging>=20.0 in c:\\users\\sourav\\anaconda3\\envs\\rtx_env\\lib\\site-packages (from transformers) (25.0)\n",
      "Requirement already satisfied: pyyaml>=5.1 in c:\\users\\sourav\\anaconda3\\envs\\rtx_env\\lib\\site-packages (from transformers) (6.0.2)\n",
      "Requirement already satisfied: regex!=2019.12.17 in c:\\users\\sourav\\anaconda3\\envs\\rtx_env\\lib\\site-packages (from transformers) (2025.7.34)\n",
      "Requirement already satisfied: requests in c:\\users\\sourav\\anaconda3\\envs\\rtx_env\\lib\\site-packages (from transformers) (2.32.4)\n",
      "Requirement already satisfied: tokenizers<0.22,>=0.21 in c:\\users\\sourav\\anaconda3\\envs\\rtx_env\\lib\\site-packages (from transformers) (0.21.4)\n",
      "Requirement already satisfied: safetensors>=0.4.3 in c:\\users\\sourav\\anaconda3\\envs\\rtx_env\\lib\\site-packages (from transformers) (0.6.2)\n",
      "Requirement already satisfied: tqdm>=4.27 in c:\\users\\sourav\\anaconda3\\envs\\rtx_env\\lib\\site-packages (from transformers) (4.67.1)\n",
      "Requirement already satisfied: fsspec>=2023.5.0 in c:\\users\\sourav\\anaconda3\\envs\\rtx_env\\lib\\site-packages (from huggingface-hub<1.0,>=0.34.0->transformers) (2025.7.0)\n",
      "Requirement already satisfied: typing-extensions>=3.7.4.3 in c:\\users\\sourav\\anaconda3\\envs\\rtx_env\\lib\\site-packages (from huggingface-hub<1.0,>=0.34.0->transformers) (4.12.2)\n",
      "Requirement already satisfied: networkx in c:\\users\\sourav\\anaconda3\\envs\\rtx_env\\lib\\site-packages (from torch) (3.2.1)\n",
      "Requirement already satisfied: jinja2 in c:\\users\\sourav\\anaconda3\\envs\\rtx_env\\lib\\site-packages (from torch) (3.1.6)\n",
      "Requirement already satisfied: sympy==1.13.1 in c:\\users\\sourav\\anaconda3\\envs\\rtx_env\\lib\\site-packages (from torch) (1.13.1)\n",
      "Requirement already satisfied: mpmath<1.4,>=1.1.0 in c:\\users\\sourav\\anaconda3\\envs\\rtx_env\\lib\\site-packages (from sympy==1.13.1->torch) (1.3.0)\n",
      "Requirement already satisfied: psutil in c:\\users\\sourav\\anaconda3\\envs\\rtx_env\\lib\\site-packages (from accelerate) (7.0.0)\n",
      "Requirement already satisfied: colorama in c:\\users\\sourav\\anaconda3\\envs\\rtx_env\\lib\\site-packages (from tqdm>=4.27->transformers) (0.4.6)\n",
      "Requirement already satisfied: MarkupSafe>=2.0 in c:\\users\\sourav\\anaconda3\\envs\\rtx_env\\lib\\site-packages (from jinja2->torch) (3.0.2)\n",
      "Requirement already satisfied: charset_normalizer<4,>=2 in c:\\users\\sourav\\anaconda3\\envs\\rtx_env\\lib\\site-packages (from requests->transformers) (3.3.2)\n",
      "Requirement already satisfied: idna<4,>=2.5 in c:\\users\\sourav\\anaconda3\\envs\\rtx_env\\lib\\site-packages (from requests->transformers) (3.7)\n",
      "Requirement already satisfied: urllib3<3,>=1.21.1 in c:\\users\\sourav\\anaconda3\\envs\\rtx_env\\lib\\site-packages (from requests->transformers) (2.5.0)\n",
      "Requirement already satisfied: certifi>=2017.4.17 in c:\\users\\sourav\\anaconda3\\envs\\rtx_env\\lib\\site-packages (from requests->transformers) (2025.8.3)\n"
     ]
    }
   ],
   "source": [
    "# @title Install LLM Libraries\n",
    "!pip install transformers torch accelerate bitsandbytes"
   ]
  },
  {
   "cell_type": "code",
   "execution_count": 4,
   "id": "d181429b",
   "metadata": {},
   "outputs": [
    {
     "name": "stdout",
     "output_type": "stream",
     "text": [
      "Requirement already satisfied: sentence-transformers in c:\\users\\sourav\\anaconda3\\envs\\rtx_env\\lib\\site-packages (5.1.0)\n",
      "Requirement already satisfied: transformers in c:\\users\\sourav\\anaconda3\\envs\\rtx_env\\lib\\site-packages (4.55.3)\n",
      "Requirement already satisfied: torch in c:\\users\\sourav\\anaconda3\\envs\\rtx_env\\lib\\site-packages (2.5.1)\n",
      "Requirement already satisfied: accelerate in c:\\users\\sourav\\anaconda3\\envs\\rtx_env\\lib\\site-packages (1.10.0)\n",
      "Requirement already satisfied: bitsandbytes in c:\\users\\sourav\\anaconda3\\envs\\rtx_env\\lib\\site-packages (0.47.0)\n",
      "Requirement already satisfied: tqdm in c:\\users\\sourav\\anaconda3\\envs\\rtx_env\\lib\\site-packages (from sentence-transformers) (4.67.1)\n",
      "Requirement already satisfied: scikit-learn in c:\\users\\sourav\\anaconda3\\envs\\rtx_env\\lib\\site-packages (from sentence-transformers) (1.6.1)\n",
      "Requirement already satisfied: scipy in c:\\users\\sourav\\anaconda3\\envs\\rtx_env\\lib\\site-packages (from sentence-transformers) (1.13.1)\n",
      "Requirement already satisfied: huggingface-hub>=0.20.0 in c:\\users\\sourav\\anaconda3\\envs\\rtx_env\\lib\\site-packages (from sentence-transformers) (0.34.4)\n",
      "Requirement already satisfied: Pillow in c:\\users\\sourav\\anaconda3\\envs\\rtx_env\\lib\\site-packages (from sentence-transformers) (11.3.0)\n",
      "Requirement already satisfied: typing_extensions>=4.5.0 in c:\\users\\sourav\\anaconda3\\envs\\rtx_env\\lib\\site-packages (from sentence-transformers) (4.12.2)\n",
      "Requirement already satisfied: filelock in c:\\users\\sourav\\anaconda3\\envs\\rtx_env\\lib\\site-packages (from transformers) (3.17.0)\n",
      "Requirement already satisfied: numpy>=1.17 in c:\\users\\sourav\\anaconda3\\envs\\rtx_env\\lib\\site-packages (from transformers) (2.0.1)\n",
      "Requirement already satisfied: packaging>=20.0 in c:\\users\\sourav\\anaconda3\\envs\\rtx_env\\lib\\site-packages (from transformers) (25.0)\n",
      "Requirement already satisfied: pyyaml>=5.1 in c:\\users\\sourav\\anaconda3\\envs\\rtx_env\\lib\\site-packages (from transformers) (6.0.2)\n",
      "Requirement already satisfied: regex!=2019.12.17 in c:\\users\\sourav\\anaconda3\\envs\\rtx_env\\lib\\site-packages (from transformers) (2025.7.34)\n",
      "Requirement already satisfied: requests in c:\\users\\sourav\\anaconda3\\envs\\rtx_env\\lib\\site-packages (from transformers) (2.32.4)\n",
      "Requirement already satisfied: tokenizers<0.22,>=0.21 in c:\\users\\sourav\\anaconda3\\envs\\rtx_env\\lib\\site-packages (from transformers) (0.21.4)\n",
      "Requirement already satisfied: safetensors>=0.4.3 in c:\\users\\sourav\\anaconda3\\envs\\rtx_env\\lib\\site-packages (from transformers) (0.6.2)\n",
      "Requirement already satisfied: fsspec>=2023.5.0 in c:\\users\\sourav\\anaconda3\\envs\\rtx_env\\lib\\site-packages (from huggingface-hub>=0.20.0->sentence-transformers) (2025.7.0)\n",
      "Requirement already satisfied: networkx in c:\\users\\sourav\\anaconda3\\envs\\rtx_env\\lib\\site-packages (from torch) (3.2.1)\n",
      "Requirement already satisfied: jinja2 in c:\\users\\sourav\\anaconda3\\envs\\rtx_env\\lib\\site-packages (from torch) (3.1.6)\n",
      "Requirement already satisfied: sympy==1.13.1 in c:\\users\\sourav\\anaconda3\\envs\\rtx_env\\lib\\site-packages (from torch) (1.13.1)\n",
      "Requirement already satisfied: mpmath<1.4,>=1.1.0 in c:\\users\\sourav\\anaconda3\\envs\\rtx_env\\lib\\site-packages (from sympy==1.13.1->torch) (1.3.0)\n",
      "Requirement already satisfied: psutil in c:\\users\\sourav\\anaconda3\\envs\\rtx_env\\lib\\site-packages (from accelerate) (7.0.0)\n",
      "Requirement already satisfied: colorama in c:\\users\\sourav\\anaconda3\\envs\\rtx_env\\lib\\site-packages (from tqdm->sentence-transformers) (0.4.6)\n",
      "Requirement already satisfied: MarkupSafe>=2.0 in c:\\users\\sourav\\anaconda3\\envs\\rtx_env\\lib\\site-packages (from jinja2->torch) (3.0.2)\n",
      "Requirement already satisfied: charset_normalizer<4,>=2 in c:\\users\\sourav\\anaconda3\\envs\\rtx_env\\lib\\site-packages (from requests->transformers) (3.3.2)\n",
      "Requirement already satisfied: idna<4,>=2.5 in c:\\users\\sourav\\anaconda3\\envs\\rtx_env\\lib\\site-packages (from requests->transformers) (3.7)\n",
      "Requirement already satisfied: urllib3<3,>=1.21.1 in c:\\users\\sourav\\anaconda3\\envs\\rtx_env\\lib\\site-packages (from requests->transformers) (2.5.0)\n",
      "Requirement already satisfied: certifi>=2017.4.17 in c:\\users\\sourav\\anaconda3\\envs\\rtx_env\\lib\\site-packages (from requests->transformers) (2025.8.3)\n",
      "Requirement already satisfied: joblib>=1.2.0 in c:\\users\\sourav\\anaconda3\\envs\\rtx_env\\lib\\site-packages (from scikit-learn->sentence-transformers) (1.5.1)\n",
      "Requirement already satisfied: threadpoolctl>=3.1.0 in c:\\users\\sourav\\anaconda3\\envs\\rtx_env\\lib\\site-packages (from scikit-learn->sentence-transformers) (3.6.0)\n"
     ]
    }
   ],
   "source": [
    "# @title Install Required Libraries (Run This First)\n",
    "!pip install sentence-transformers transformers torch accelerate bitsandbytes"
   ]
  },
  {
   "cell_type": "code",
   "execution_count": 5,
   "id": "3e00dcab",
   "metadata": {},
   "outputs": [
    {
     "name": "stdout",
     "output_type": "stream",
     "text": [
      "✅ All libraries installed successfully!\n"
     ]
    }
   ],
   "source": [
    "# @title Verify Installations\n",
    "try:\n",
    "    from sentence_transformers import SentenceTransformer\n",
    "    from transformers import AutoTokenizer, AutoModelForCausalLM\n",
    "    import torch\n",
    "    print(\"✅ All libraries installed successfully!\")\n",
    "except ImportError as e:\n",
    "    print(f\"❌ Installation error: {e}\")\n",
    "    print(\"Please run the install cell again.\")"
   ]
  },
  {
   "cell_type": "code",
   "execution_count": 6,
   "id": "0b377c7a",
   "metadata": {},
   "outputs": [
    {
     "name": "stdout",
     "output_type": "stream",
     "text": [
      "✅ Vector database loaded!\n",
      "📊 Ready with 19 chunks\n"
     ]
    }
   ],
   "source": [
    "# @title Load Your Existing Vector Database\n",
    "import chromadb\n",
    "\n",
    "# Load your pre-built vector database\n",
    "persistent_path = \"./financial_policy_chromadb\"\n",
    "client = chromadb.PersistentClient(path=persistent_path)\n",
    "collection = client.get_collection(\"financial_policy\")\n",
    "\n",
    "print(f\"✅ Vector database loaded!\")\n",
    "print(f\"📊 Ready with {collection.count()} chunks\")"
   ]
  },
  {
   "cell_type": "code",
   "execution_count": 7,
   "id": "b4b9690a",
   "metadata": {},
   "outputs": [
    {
     "name": "stdout",
     "output_type": "stream",
     "text": [
      "🧠 Loading faster model...\n"
     ]
    },
    {
     "name": "stderr",
     "output_type": "stream",
     "text": [
      "Device set to use cpu\n"
     ]
    },
    {
     "name": "stdout",
     "output_type": "stream",
     "text": [
      "✅ Model loaded successfully!\n"
     ]
    }
   ],
   "source": [
    "# @title Use Simpler, Faster Model\n",
    "from transformers import pipeline\n",
    "\n",
    "# Use a much smaller and faster model\n",
    "print(\"🧠 Loading faster model...\")\n",
    "\n",
    "try:\n",
    "    # Try a smaller model first\n",
    "    text_generator = pipeline(\n",
    "        \"text-generation\",\n",
    "        model=\"distilgpt2\",  # Much smaller, faster model\n",
    "        max_length=200,\n",
    "        truncation=True,\n",
    "        device=-1  # Use CPU to avoid GPU memory issues\n",
    "    )\n",
    "    print(\"✅ Model loaded successfully!\")\n",
    "except Exception as e:\n",
    "    print(f\"❌ Model loading failed: {e}\")\n",
    "    text_generator = None"
   ]
  },
  {
   "cell_type": "code",
   "execution_count": 9,
   "id": "3251a92e",
   "metadata": {},
   "outputs": [],
   "source": [
    "# @title Reliable Answer Generator\n",
    "def reliable_llm_answer(question, context):\n",
    "    \"\"\"Generate answers with better error handling\"\"\"\n",
    "    \n",
    "    if text_generator is None:\n",
    "        # Fallback to rule-based answers if LLM fails\n",
    "        return f\"Based on the financial policy document: {context[:250]}...\"\n",
    "    \n",
    "    prompt = f\"\"\"You are an expert in finance. Answer this financial question using only the context below.\n",
    "\n",
    "Context: {context}\n",
    "\n",
    "Question: {question}\n",
    "\n",
    "Answer:\"\"\"\n",
    "    \n",
    "    try:\n",
    "        response = text_generator(\n",
    "            prompt,\n",
    "            max_new_tokens=100,\n",
    "            temperature=0.7,\n",
    "            do_sample=True,\n",
    "            truncation=True,\n",
    "            pad_token_id=50256\n",
    "        )\n",
    "        \n",
    "        answer = response[0]['generated_text'].split(\"Answer:\")[-1].strip()\n",
    "        return answer\n",
    "        \n",
    "    except Exception as e:\n",
    "        print(f\"LLM error: {e}\")\n",
    "        return f\"According to the document: {context[:200]}...\"\n",
    "\n",
    "def get_reliable_response(question):\n",
    "    \"\"\"Get reliable response with error handling\"\"\"\n",
    "    # Search vector database\n",
    "    results = collection.query(\n",
    "        query_texts=[question],\n",
    "        n_results=2,\n",
    "        include=['metadatas', 'documents']\n",
    "    )\n",
    "    \n",
    "    if results and results['documents']:\n",
    "        context = \"\"\n",
    "        for doc, metadata in zip(results['documents'][0], results['metadatas'][0]):\n",
    "            context += f\"[Page {metadata['page_number']}]: {doc}\\n\"\n",
    "        \n",
    "        return reliable_llm_answer(question, context)\n",
    "    else:\n",
    "        return \"I couldn't find information about that topic.\""
   ]
  },
  {
   "cell_type": "code",
   "execution_count": 14,
   "id": "9e55daf2",
   "metadata": {},
   "outputs": [
    {
     "name": "stdout",
     "output_type": "stream",
     "text": [
      "❓ Question: What is budget?\n",
      "==================================================\n",
      "💡 Answer:\n",
      "Budget is a fiscal instrument that is used to monitor the economic performance of the State and the Territory. In short, the Budget is a budget instrument that is used to monitor the economic performance of the State and the Territory. The Budget provides an aggregate surplus over four years. Short and long-term financial indicators are sound.\n",
      "Figure 1: Fiscal instrument\n",
      "Figure 2: Budget: budgetary instrument\n",
      "Figure 3: Budget: budget\n",
      "Figure 4: Budget: budget\n",
      "Figure 5: Budget: budget\n",
      "==================================================\n"
     ]
    }
   ],
   "source": [
    "# @title Test Reliable Version\n",
    "test_question = \"What is budget?\"\n",
    "\n",
    "print(f\"❓ Question: {test_question}\")\n",
    "print(\"=\" * 50)\n",
    "\n",
    "response = get_reliable_response(test_question)\n",
    "print(f\"💡 Answer:\")\n",
    "print(response)\n",
    "print(\"=\" * 50)"
   ]
  },
  {
   "cell_type": "markdown",
   "id": "3d81f539",
   "metadata": {},
   "source": []
  }
 ],
 "metadata": {
  "kernelspec": {
   "display_name": "rtx_env",
   "language": "python",
   "name": "python3"
  },
  "language_info": {
   "codemirror_mode": {
    "name": "ipython",
    "version": 3
   },
   "file_extension": ".py",
   "mimetype": "text/x-python",
   "name": "python",
   "nbconvert_exporter": "python",
   "pygments_lexer": "ipython3",
   "version": "3.9.23"
  }
 },
 "nbformat": 4,
 "nbformat_minor": 5
}
